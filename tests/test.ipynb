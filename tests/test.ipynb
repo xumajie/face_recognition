{
  "cells": [
    {
      "cell_type": "code",
      "execution_count": 20,
      "metadata": {
        "collapsed": true,
        "pycharm": {
          "is_executing": false
        }
      },
      "outputs": [
        {
          "name": "stdout",
          "text": [
            "[True]\n"
          ],
          "output_type": "stream"
        }
      ],
      "source": "import face_recognition\nimport os\nimport numpy as np\nfrom click.testing import CliRunner\n\nfrom face_recognition import api\nfrom face_recognition import face_recognition_cli\nfrom face_recognition import face_detection_cli\n# img \u003d api.load_image_file(os.path.join(os.path.dirname(__file__), \u0027test_images\u0027, \u0027obama.jpg\u0027))\nimage \u003d face_recognition.load_image_file(\"test_images/obama.jpg\")\nface_locations \u003d face_recognition.face_locations(image)\nface_landmarks_list \u003d face_recognition.face_landmarks(image)\n\nknown_image \u003d face_recognition.load_image_file(\"test_images/xmj2.jpg\")\nunknown_image \u003d face_recognition.load_image_file(\"test_images/xmj4.jpg\")\n\n# biden_encoding \u003d face_recognition.face_encodings(known_image)[0]\nbiden_encoding \u003d face_recognition.face_encodings(known_image,face_recognition.face_locations(known_image,1,\"cnn\"))[0]\nunknown_encoding \u003d face_recognition.face_encodings(unknown_image)[0]\n\nresults \u003d face_recognition.compare_faces([biden_encoding], unknown_encoding)\nprint(results)\n\n"
    },
    {
      "cell_type": "markdown",
      "source": "# 测试算法准确率",
      "metadata": {
        "pycharm": {
          "metadata": false
        }
      }
    },
    {
      "cell_type": "code",
      "execution_count": null,
      "outputs": [],
      "source": "\n",
      "metadata": {
        "pycharm": {
          "metadata": false,
          "name": "#%%\n"
        }
      }
    }
  ],
  "metadata": {
    "language_info": {
      "codemirror_mode": {
        "name": "ipython",
        "version": 2
      },
      "file_extension": ".py",
      "mimetype": "text/x-python",
      "name": "python",
      "nbconvert_exporter": "python",
      "pygments_lexer": "ipython2",
      "version": "2.7.6"
    },
    "kernelspec": {
      "name": "python3",
      "language": "python",
      "display_name": "Python 3"
    }
  },
  "nbformat": 4,
  "nbformat_minor": 0
}